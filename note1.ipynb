{
 "cells": [
  {
   "cell_type": "code",
   "execution_count": 43,
   "metadata": {
    "scrolled": true
   },
   "outputs": [],
   "source": [
    "# import nltk\n",
    "# import pandas as pd\n",
    "# df1 = pd.read_csv(\"final_dataset.csv\")\n",
    "# print(df1)\n",
    "\n",
    "import unicodecsv\n",
    "response = []\n",
    "f= open('final_dataset.csv', 'rb')  \n",
    "reader = unicodecsv.DictReader(f)  \n",
    "\n",
    "for row in reader:  \n",
    "    response.append(row) \n",
    "\n",
    "f.close()"
   ]
  },
  {
   "cell_type": "code",
   "execution_count": 44,
   "metadata": {},
   "outputs": [
    {
     "data": {
      "text/plain": [
       "OrderedDict([('', '154'),\n",
       "             ('Responses',\n",
       "              'I would tell my friends that choosing organic would be the best decision because it is much healthier for you - there as less chemical used in the process, less pesticides, and it is supporting our local farmers. '),\n",
       "             ('Final Score', '25')])"
      ]
     },
     "execution_count": 44,
     "metadata": {},
     "output_type": "execute_result"
    }
   ],
   "source": [
    "response[0]"
   ]
  },
  {
   "cell_type": "code",
   "execution_count": 49,
   "metadata": {},
   "outputs": [
    {
     "name": "stdout",
     "output_type": "stream",
     "text": [
      "['I', 'would', 'tell', 'my', 'friends', 'that', 'choosing', 'organic', 'would', 'be', 'the', 'best', 'decision', 'because', 'it', 'is', 'much', 'healthier', 'for', 'you', '-', 'there', 'as', 'less', 'chemical', 'used', 'in', 'the', 'process,', 'less', 'pesticides,', 'and', 'it', 'is', 'supporting', 'our', 'local', 'farmers.', '']\n"
     ]
    }
   ],
   "source": [
    "\n",
    "example = 'I would tell my friends that choosing organic would be the best decision because it is much healthier for you - there as less chemical used in the process, less pesticides, and it is supporting our local farmers. '\n",
    "\n",
    "words = example.split(' ')\n",
    "print(words)\n"
   ]
  },
  {
   "cell_type": "code",
   "execution_count": 51,
   "metadata": {},
   "outputs": [
    {
     "name": "stdout",
     "output_type": "stream",
     "text": [
      "Tokens: ['I', 'would', 'tell', 'my', 'friends', 'that', 'choosing', 'organic', 'would', 'be', 'the', 'best', 'decision', 'because', 'it', 'is', 'much', 'healthier', 'for', 'you', '-', 'there', 'as', 'less', 'chemical', 'used', 'in', 'the', 'process', ',', 'less', 'pesticides', ',', 'and', 'it', 'is', 'supporting', 'our', 'local', 'farmers', '.']\n"
     ]
    }
   ],
   "source": [
    "tokens = nltk.word_tokenize(example)\n",
    "print(\"Tokens: \" + str(tokens))"
   ]
  },
  {
   "cell_type": "code",
   "execution_count": 52,
   "metadata": {},
   "outputs": [
    {
     "name": "stdout",
     "output_type": "stream",
     "text": [
      "Tagged: [('I', 'PRP'), ('would', 'MD'), ('tell', 'VB'), ('my', 'PRP$'), ('friends', 'NNS'), ('that', 'IN'), ('choosing', 'VBG'), ('organic', 'JJ'), ('would', 'MD'), ('be', 'VB'), ('the', 'DT'), ('best', 'JJS'), ('decision', 'NN'), ('because', 'IN'), ('it', 'PRP'), ('is', 'VBZ'), ('much', 'RB'), ('healthier', 'JJR'), ('for', 'IN'), ('you', 'PRP'), ('-', ':'), ('there', 'RB'), ('as', 'IN'), ('less', 'JJR'), ('chemical', 'NN'), ('used', 'VBN'), ('in', 'IN'), ('the', 'DT'), ('process', 'NN'), (',', ','), ('less', 'JJR'), ('pesticides', 'NNS'), (',', ','), ('and', 'CC'), ('it', 'PRP'), ('is', 'VBZ'), ('supporting', 'VBG'), ('our', 'PRP$'), ('local', 'JJ'), ('farmers', 'NNS'), ('.', '.')]\n"
     ]
    }
   ],
   "source": [
    "tags = nltk.pos_tag(tokens)\n",
    "print(\"Tagged: \" + str(tags))"
   ]
  },
  {
   "cell_type": "code",
   "execution_count": 53,
   "metadata": {},
   "outputs": [
    {
     "name": "stdout",
     "output_type": "stream",
     "text": [
      "$: dollar\n",
      "    $ -$ --$ A$ C$ HK$ M$ NZ$ S$ U.S.$ US$\n",
      "'': closing quotation mark\n",
      "    ' ''\n",
      "(: opening parenthesis\n",
      "    ( [ {\n",
      "): closing parenthesis\n",
      "    ) ] }\n",
      ",: comma\n",
      "    ,\n",
      "--: dash\n",
      "    --\n",
      ".: sentence terminator\n",
      "    . ! ?\n",
      ":: colon or ellipsis\n",
      "    : ; ...\n",
      "CC: conjunction, coordinating\n",
      "    & 'n and both but either et for less minus neither nor or plus so\n",
      "    therefore times v. versus vs. whether yet\n",
      "CD: numeral, cardinal\n",
      "    mid-1890 nine-thirty forty-two one-tenth ten million 0.5 one forty-\n",
      "    seven 1987 twenty '79 zero two 78-degrees eighty-four IX '60s .025\n",
      "    fifteen 271,124 dozen quintillion DM2,000 ...\n",
      "DT: determiner\n",
      "    all an another any both del each either every half la many much nary\n",
      "    neither no some such that the them these this those\n",
      "EX: existential there\n",
      "    there\n",
      "FW: foreign word\n",
      "    gemeinschaft hund ich jeux habeas Haementeria Herr K'ang-si vous\n",
      "    lutihaw alai je jour objets salutaris fille quibusdam pas trop Monte\n",
      "    terram fiche oui corporis ...\n",
      "IN: preposition or conjunction, subordinating\n",
      "    astride among uppon whether out inside pro despite on by throughout\n",
      "    below within for towards near behind atop around if like until below\n",
      "    next into if beside ...\n",
      "JJ: adjective or numeral, ordinal\n",
      "    third ill-mannered pre-war regrettable oiled calamitous first separable\n",
      "    ectoplasmic battery-powered participatory fourth still-to-be-named\n",
      "    multilingual multi-disciplinary ...\n",
      "JJR: adjective, comparative\n",
      "    bleaker braver breezier briefer brighter brisker broader bumper busier\n",
      "    calmer cheaper choosier cleaner clearer closer colder commoner costlier\n",
      "    cozier creamier crunchier cuter ...\n",
      "JJS: adjective, superlative\n",
      "    calmest cheapest choicest classiest cleanest clearest closest commonest\n",
      "    corniest costliest crassest creepiest crudest cutest darkest deadliest\n",
      "    dearest deepest densest dinkiest ...\n",
      "LS: list item marker\n",
      "    A A. B B. C C. D E F First G H I J K One SP-44001 SP-44002 SP-44005\n",
      "    SP-44007 Second Third Three Two * a b c d first five four one six three\n",
      "    two\n",
      "MD: modal auxiliary\n",
      "    can cannot could couldn't dare may might must need ought shall should\n",
      "    shouldn't will would\n",
      "NN: noun, common, singular or mass\n",
      "    common-carrier cabbage knuckle-duster Casino afghan shed thermostat\n",
      "    investment slide humour falloff slick wind hyena override subhumanity\n",
      "    machinist ...\n",
      "NNP: noun, proper, singular\n",
      "    Motown Venneboerger Czestochwa Ranzer Conchita Trumplane Christos\n",
      "    Oceanside Escobar Kreisler Sawyer Cougar Yvette Ervin ODI Darryl CTCA\n",
      "    Shannon A.K.C. Meltex Liverpool ...\n",
      "NNPS: noun, proper, plural\n",
      "    Americans Americas Amharas Amityvilles Amusements Anarcho-Syndicalists\n",
      "    Andalusians Andes Andruses Angels Animals Anthony Antilles Antiques\n",
      "    Apache Apaches Apocrypha ...\n",
      "NNS: noun, common, plural\n",
      "    undergraduates scotches bric-a-brac products bodyguards facets coasts\n",
      "    divestitures storehouses designs clubs fragrances averages\n",
      "    subjectivists apprehensions muses factory-jobs ...\n",
      "PDT: pre-determiner\n",
      "    all both half many quite such sure this\n",
      "POS: genitive marker\n",
      "    ' 's\n",
      "PRP: pronoun, personal\n",
      "    hers herself him himself hisself it itself me myself one oneself ours\n",
      "    ourselves ownself self she thee theirs them themselves they thou thy us\n",
      "PRP$: pronoun, possessive\n",
      "    her his mine my our ours their thy your\n",
      "RB: adverb\n",
      "    occasionally unabatingly maddeningly adventurously professedly\n",
      "    stirringly prominently technologically magisterially predominately\n",
      "    swiftly fiscally pitilessly ...\n",
      "RBR: adverb, comparative\n",
      "    further gloomier grander graver greater grimmer harder harsher\n",
      "    healthier heavier higher however larger later leaner lengthier less-\n",
      "    perfectly lesser lonelier longer louder lower more ...\n",
      "RBS: adverb, superlative\n",
      "    best biggest bluntest earliest farthest first furthest hardest\n",
      "    heartiest highest largest least less most nearest second tightest worst\n",
      "RP: particle\n",
      "    aboard about across along apart around aside at away back before behind\n",
      "    by crop down ever fast for forth from go high i.e. in into just later\n",
      "    low more off on open out over per pie raising start teeth that through\n",
      "    under unto up up-pp upon whole with you\n",
      "SYM: symbol\n",
      "    % & ' '' ''. ) ). * + ,. < = > @ A[fj] U.S U.S.S.R * ** ***\n",
      "TO: \"to\" as preposition or infinitive marker\n",
      "    to\n",
      "UH: interjection\n",
      "    Goodbye Goody Gosh Wow Jeepers Jee-sus Hubba Hey Kee-reist Oops amen\n",
      "    huh howdy uh dammit whammo shucks heck anyways whodunnit honey golly\n",
      "    man baby diddle hush sonuvabitch ...\n",
      "VB: verb, base form\n",
      "    ask assemble assess assign assume atone attention avoid bake balkanize\n",
      "    bank begin behold believe bend benefit bevel beware bless boil bomb\n",
      "    boost brace break bring broil brush build ...\n",
      "VBD: verb, past tense\n",
      "    dipped pleaded swiped regummed soaked tidied convened halted registered\n",
      "    cushioned exacted snubbed strode aimed adopted belied figgered\n",
      "    speculated wore appreciated contemplated ...\n",
      "VBG: verb, present participle or gerund\n",
      "    telegraphing stirring focusing angering judging stalling lactating\n",
      "    hankerin' alleging veering capping approaching traveling besieging\n",
      "    encrypting interrupting erasing wincing ...\n",
      "VBN: verb, past participle\n",
      "    multihulled dilapidated aerosolized chaired languished panelized used\n",
      "    experimented flourished imitated reunifed factored condensed sheared\n",
      "    unsettled primed dubbed desired ...\n",
      "VBP: verb, present tense, not 3rd person singular\n",
      "    predominate wrap resort sue twist spill cure lengthen brush terminate\n",
      "    appear tend stray glisten obtain comprise detest tease attract\n",
      "    emphasize mold postpone sever return wag ...\n",
      "VBZ: verb, present tense, 3rd person singular\n",
      "    bases reconstructs marks mixes displeases seals carps weaves snatches\n",
      "    slumps stretches authorizes smolders pictures emerges stockpiles\n",
      "    seduces fizzes uses bolsters slaps speaks pleads ...\n",
      "WDT: WH-determiner\n",
      "    that what whatever which whichever\n",
      "WP: WH-pronoun\n",
      "    that what whatever whatsoever which who whom whosoever\n",
      "WP$: WH-pronoun, possessive\n",
      "    whose\n",
      "WRB: Wh-adverb\n",
      "    how however whence whenever where whereby whereever wherein whereof why\n",
      "``: opening quotation mark\n",
      "    ` ``\n"
     ]
    },
    {
     "name": "stderr",
     "output_type": "stream",
     "text": [
      "[nltk_data] Downloading package tagsets to /Users/zza/nltk_data...\n",
      "[nltk_data]   Package tagsets is already up-to-date!\n"
     ]
    }
   ],
   "source": [
    "nltk.download('tagsets')\n",
    "nltk.help.upenn_tagset()"
   ]
  },
  {
   "cell_type": "code",
   "execution_count": 54,
   "metadata": {},
   "outputs": [
    {
     "name": "stdout",
     "output_type": "stream",
     "text": [
      "{\"hasn't\", 'what', \"didn't\", 'yourselves', 'if', 'there', 'can', 'weren', \"aren't\", 'she', 'does', 'm', 'when', 'your', \"she's\", 'yours', 'herself', \"hadn't\", 'after', 'i', 'itself', 'with', 'haven', 'needn', 'do', 's', 'how', 'above', 'then', 'too', 'same', 'or', \"weren't\", 'their', 're', 'where', \"needn't\", 'd', 'mustn', 'couldn', \"wouldn't\", 'most', 'aren', 'o', 'were', \"it's\", 've', 'hers', 'we', 'for', 'himself', 'from', \"you'd\", 'so', 'him', 'few', 'in', 'don', 'until', 'they', 'me', 'am', 'only', 'my', 'be', \"don't\", 'of', 'both', \"doesn't\", 'and', 'that', 'at', 'ours', 'up', 'was', 'the', 'these', 'its', \"should've\", \"couldn't\", 'between', 'all', 'being', 'will', 'hadn', 'has', \"you're\", 'as', 'yourself', 'during', 'further', 'about', 'he', 'under', 'before', 'did', \"isn't\", 'a', 'no', \"mustn't\", 'again', 'but', 'any', 'nor', 'shan', 'against', 'while', 'having', \"mightn't\", 'this', 'you', 'been', 'why', 'which', 'to', 'ain', \"haven't\", 'those', \"wasn't\", 'down', \"that'll\", 'out', 't', 'hasn', 'some', 'by', 'wouldn', \"you've\", 'over', 'shouldn', 'won', 'doing', 'who', 'more', 'themselves', 'now', 'mightn', 'myself', 'is', 'just', 'should', 'through', 'll', 'wasn', 'are', \"shouldn't\", \"you'll\", 'ourselves', 'y', 'ma', 'very', 'on', 'our', 'isn', 'her', 'doesn', 'once', 'it', 'own', 'had', 'didn', 'his', \"shan't\", 'such', \"won't\", 'whom', 'than', 'have', 'theirs', 'them', 'here', 'below', 'an', 'because', 'other', 'each', 'off', 'not', 'into'}\n"
     ]
    }
   ],
   "source": [
    "english_stopwords = set(nltk.corpus.stopwords.words('english'))\n",
    "print(english_stopwords)"
   ]
  },
  {
   "cell_type": "code",
   "execution_count": 60,
   "metadata": {},
   "outputs": [
    {
     "name": "stdout",
     "output_type": "stream",
     "text": [
      "Synset('student.n.01') a learner who is enrolled in an educational institution\n",
      "Synset('scholar.n.01') a learned person (especially in the humanities); someone who by long study has gained mastery in one or more disciplines\n"
     ]
    }
   ],
   "source": [
    "from textblob import Word\n",
    "\n",
    "w = Word(\"student\")\n",
    "\n",
    "for synset, definition in zip(w.get_synsets(), w.define()):\n",
    "    print(synset, definition)"
   ]
  },
  {
   "cell_type": "code",
   "execution_count": 61,
   "metadata": {},
   "outputs": [
    {
     "name": "stdout",
     "output_type": "stream",
     "text": [
      "8\n",
      "8\n",
      "0.625\n"
     ]
    }
   ],
   "source": [
    "from difflib import SequenceMatcher\n",
    "a = \"studying\"\n",
    "b = \"students\"\n",
    "print(len(a))\n",
    "print(len(b))\n",
    "ratio = SequenceMatcher(None, a, b).ratio()\n",
    "print(ratio)\n",
    "#The distance is a normalized value between 0 and 1, where 1 means identical."
   ]
  },
  {
   "cell_type": "code",
   "execution_count": 92,
   "metadata": {},
   "outputs": [
    {
     "name": "stdout",
     "output_type": "stream",
     "text": [
      "king king 1.0\n",
      "king queen 0.48417452\n",
      "king horse 0.33929762\n",
      "king cat 0.4948325\n",
      "king desk 0.44060424\n",
      "king lamp 0.3517498\n",
      "queen king 0.48417452\n",
      "queen queen 1.0\n",
      "queen horse 0.44992086\n",
      "queen cat 0.54133344\n",
      "queen desk 0.32155925\n",
      "queen lamp 0.32000118\n",
      "horse king 0.33929762\n",
      "horse queen 0.44992086\n",
      "horse horse 1.0\n",
      "horse cat 0.5005875\n",
      "horse desk 0.33867088\n",
      "horse lamp 0.36394614\n",
      "cat king 0.4948325\n",
      "cat queen 0.54133344\n",
      "cat horse 0.5005875\n",
      "cat cat 1.0\n",
      "cat desk 0.48787928\n",
      "cat lamp 0.27159163\n"
     ]
    },
    {
     "name": "stderr",
     "output_type": "stream",
     "text": [
      "/Users/zza/anaconda3/lib/python3.7/runpy.py:193: ModelsWarning: [W007] The model you're using has no word vectors loaded, so the result of the Token.similarity method will be based on the tagger, parser and NER, which may not give useful similarity judgements. This may happen if you're using one of the small models, e.g. `en_core_web_sm`, which don't ship with word vectors and only use context-sensitive tensors. You can always add your own word vectors, or use one of the larger models instead if available.\n",
      "  \"__main__\", mod_spec)\n",
      "/Users/zza/anaconda3/lib/python3.7/runpy.py:193: ModelsWarning: [W007] The model you're using has no word vectors loaded, so the result of the Token.similarity method will be based on the tagger, parser and NER, which may not give useful similarity judgements. This may happen if you're using one of the small models, e.g. `en_core_web_sm`, which don't ship with word vectors and only use context-sensitive tensors. You can always add your own word vectors, or use one of the larger models instead if available.\n",
      "  \"__main__\", mod_spec)\n",
      "/Users/zza/anaconda3/lib/python3.7/runpy.py:193: ModelsWarning: [W007] The model you're using has no word vectors loaded, so the result of the Token.similarity method will be based on the tagger, parser and NER, which may not give useful similarity judgements. This may happen if you're using one of the small models, e.g. `en_core_web_sm`, which don't ship with word vectors and only use context-sensitive tensors. You can always add your own word vectors, or use one of the larger models instead if available.\n",
      "  \"__main__\", mod_spec)\n",
      "/Users/zza/anaconda3/lib/python3.7/runpy.py:193: ModelsWarning: [W007] The model you're using has no word vectors loaded, so the result of the Token.similarity method will be based on the tagger, parser and NER, which may not give useful similarity judgements. This may happen if you're using one of the small models, e.g. `en_core_web_sm`, which don't ship with word vectors and only use context-sensitive tensors. You can always add your own word vectors, or use one of the larger models instead if available.\n",
      "  \"__main__\", mod_spec)\n",
      "/Users/zza/anaconda3/lib/python3.7/runpy.py:193: ModelsWarning: [W007] The model you're using has no word vectors loaded, so the result of the Token.similarity method will be based on the tagger, parser and NER, which may not give useful similarity judgements. This may happen if you're using one of the small models, e.g. `en_core_web_sm`, which don't ship with word vectors and only use context-sensitive tensors. You can always add your own word vectors, or use one of the larger models instead if available.\n",
      "  \"__main__\", mod_spec)\n",
      "/Users/zza/anaconda3/lib/python3.7/runpy.py:193: ModelsWarning: [W007] The model you're using has no word vectors loaded, so the result of the Token.similarity method will be based on the tagger, parser and NER, which may not give useful similarity judgements. This may happen if you're using one of the small models, e.g. `en_core_web_sm`, which don't ship with word vectors and only use context-sensitive tensors. You can always add your own word vectors, or use one of the larger models instead if available.\n",
      "  \"__main__\", mod_spec)\n",
      "/Users/zza/anaconda3/lib/python3.7/runpy.py:193: ModelsWarning: [W007] The model you're using has no word vectors loaded, so the result of the Token.similarity method will be based on the tagger, parser and NER, which may not give useful similarity judgements. This may happen if you're using one of the small models, e.g. `en_core_web_sm`, which don't ship with word vectors and only use context-sensitive tensors. You can always add your own word vectors, or use one of the larger models instead if available.\n",
      "  \"__main__\", mod_spec)\n",
      "/Users/zza/anaconda3/lib/python3.7/runpy.py:193: ModelsWarning: [W007] The model you're using has no word vectors loaded, so the result of the Token.similarity method will be based on the tagger, parser and NER, which may not give useful similarity judgements. This may happen if you're using one of the small models, e.g. `en_core_web_sm`, which don't ship with word vectors and only use context-sensitive tensors. You can always add your own word vectors, or use one of the larger models instead if available.\n",
      "  \"__main__\", mod_spec)\n",
      "/Users/zza/anaconda3/lib/python3.7/runpy.py:193: ModelsWarning: [W007] The model you're using has no word vectors loaded, so the result of the Token.similarity method will be based on the tagger, parser and NER, which may not give useful similarity judgements. This may happen if you're using one of the small models, e.g. `en_core_web_sm`, which don't ship with word vectors and only use context-sensitive tensors. You can always add your own word vectors, or use one of the larger models instead if available.\n",
      "  \"__main__\", mod_spec)\n",
      "/Users/zza/anaconda3/lib/python3.7/runpy.py:193: ModelsWarning: [W007] The model you're using has no word vectors loaded, so the result of the Token.similarity method will be based on the tagger, parser and NER, which may not give useful similarity judgements. This may happen if you're using one of the small models, e.g. `en_core_web_sm`, which don't ship with word vectors and only use context-sensitive tensors. You can always add your own word vectors, or use one of the larger models instead if available.\n",
      "  \"__main__\", mod_spec)\n",
      "/Users/zza/anaconda3/lib/python3.7/runpy.py:193: ModelsWarning: [W007] The model you're using has no word vectors loaded, so the result of the Token.similarity method will be based on the tagger, parser and NER, which may not give useful similarity judgements. This may happen if you're using one of the small models, e.g. `en_core_web_sm`, which don't ship with word vectors and only use context-sensitive tensors. You can always add your own word vectors, or use one of the larger models instead if available.\n",
      "  \"__main__\", mod_spec)\n",
      "/Users/zza/anaconda3/lib/python3.7/runpy.py:193: ModelsWarning: [W007] The model you're using has no word vectors loaded, so the result of the Token.similarity method will be based on the tagger, parser and NER, which may not give useful similarity judgements. This may happen if you're using one of the small models, e.g. `en_core_web_sm`, which don't ship with word vectors and only use context-sensitive tensors. You can always add your own word vectors, or use one of the larger models instead if available.\n",
      "  \"__main__\", mod_spec)\n",
      "/Users/zza/anaconda3/lib/python3.7/runpy.py:193: ModelsWarning: [W007] The model you're using has no word vectors loaded, so the result of the Token.similarity method will be based on the tagger, parser and NER, which may not give useful similarity judgements. This may happen if you're using one of the small models, e.g. `en_core_web_sm`, which don't ship with word vectors and only use context-sensitive tensors. You can always add your own word vectors, or use one of the larger models instead if available.\n",
      "  \"__main__\", mod_spec)\n",
      "/Users/zza/anaconda3/lib/python3.7/runpy.py:193: ModelsWarning: [W007] The model you're using has no word vectors loaded, so the result of the Token.similarity method will be based on the tagger, parser and NER, which may not give useful similarity judgements. This may happen if you're using one of the small models, e.g. `en_core_web_sm`, which don't ship with word vectors and only use context-sensitive tensors. You can always add your own word vectors, or use one of the larger models instead if available.\n",
      "  \"__main__\", mod_spec)\n",
      "/Users/zza/anaconda3/lib/python3.7/runpy.py:193: ModelsWarning: [W007] The model you're using has no word vectors loaded, so the result of the Token.similarity method will be based on the tagger, parser and NER, which may not give useful similarity judgements. This may happen if you're using one of the small models, e.g. `en_core_web_sm`, which don't ship with word vectors and only use context-sensitive tensors. You can always add your own word vectors, or use one of the larger models instead if available.\n",
      "  \"__main__\", mod_spec)\n",
      "/Users/zza/anaconda3/lib/python3.7/runpy.py:193: ModelsWarning: [W007] The model you're using has no word vectors loaded, so the result of the Token.similarity method will be based on the tagger, parser and NER, which may not give useful similarity judgements. This may happen if you're using one of the small models, e.g. `en_core_web_sm`, which don't ship with word vectors and only use context-sensitive tensors. You can always add your own word vectors, or use one of the larger models instead if available.\n",
      "  \"__main__\", mod_spec)\n",
      "/Users/zza/anaconda3/lib/python3.7/runpy.py:193: ModelsWarning: [W007] The model you're using has no word vectors loaded, so the result of the Token.similarity method will be based on the tagger, parser and NER, which may not give useful similarity judgements. This may happen if you're using one of the small models, e.g. `en_core_web_sm`, which don't ship with word vectors and only use context-sensitive tensors. You can always add your own word vectors, or use one of the larger models instead if available.\n",
      "  \"__main__\", mod_spec)\n",
      "/Users/zza/anaconda3/lib/python3.7/runpy.py:193: ModelsWarning: [W007] The model you're using has no word vectors loaded, so the result of the Token.similarity method will be based on the tagger, parser and NER, which may not give useful similarity judgements. This may happen if you're using one of the small models, e.g. `en_core_web_sm`, which don't ship with word vectors and only use context-sensitive tensors. You can always add your own word vectors, or use one of the larger models instead if available.\n",
      "  \"__main__\", mod_spec)\n",
      "/Users/zza/anaconda3/lib/python3.7/runpy.py:193: ModelsWarning: [W007] The model you're using has no word vectors loaded, so the result of the Token.similarity method will be based on the tagger, parser and NER, which may not give useful similarity judgements. This may happen if you're using one of the small models, e.g. `en_core_web_sm`, which don't ship with word vectors and only use context-sensitive tensors. You can always add your own word vectors, or use one of the larger models instead if available.\n",
      "  \"__main__\", mod_spec)\n",
      "/Users/zza/anaconda3/lib/python3.7/runpy.py:193: ModelsWarning: [W007] The model you're using has no word vectors loaded, so the result of the Token.similarity method will be based on the tagger, parser and NER, which may not give useful similarity judgements. This may happen if you're using one of the small models, e.g. `en_core_web_sm`, which don't ship with word vectors and only use context-sensitive tensors. You can always add your own word vectors, or use one of the larger models instead if available.\n",
      "  \"__main__\", mod_spec)\n",
      "/Users/zza/anaconda3/lib/python3.7/runpy.py:193: ModelsWarning: [W007] The model you're using has no word vectors loaded, so the result of the Token.similarity method will be based on the tagger, parser and NER, which may not give useful similarity judgements. This may happen if you're using one of the small models, e.g. `en_core_web_sm`, which don't ship with word vectors and only use context-sensitive tensors. You can always add your own word vectors, or use one of the larger models instead if available.\n",
      "  \"__main__\", mod_spec)\n"
     ]
    },
    {
     "name": "stdout",
     "output_type": "stream",
     "text": [
      "desk king 0.44060424\n",
      "desk queen 0.32155925\n",
      "desk horse 0.33867088\n",
      "desk cat 0.48787928\n",
      "desk desk 1.0\n",
      "desk lamp 0.24292159\n",
      "lamp king 0.3517498\n",
      "lamp queen 0.32000118\n",
      "lamp horse 0.36394614\n",
      "lamp cat 0.27159163\n",
      "lamp desk 0.24292159\n",
      "lamp lamp 1.0\n"
     ]
    },
    {
     "name": "stderr",
     "output_type": "stream",
     "text": [
      "/Users/zza/anaconda3/lib/python3.7/runpy.py:193: ModelsWarning: [W007] The model you're using has no word vectors loaded, so the result of the Token.similarity method will be based on the tagger, parser and NER, which may not give useful similarity judgements. This may happen if you're using one of the small models, e.g. `en_core_web_sm`, which don't ship with word vectors and only use context-sensitive tensors. You can always add your own word vectors, or use one of the larger models instead if available.\n",
      "  \"__main__\", mod_spec)\n",
      "/Users/zza/anaconda3/lib/python3.7/runpy.py:193: ModelsWarning: [W007] The model you're using has no word vectors loaded, so the result of the Token.similarity method will be based on the tagger, parser and NER, which may not give useful similarity judgements. This may happen if you're using one of the small models, e.g. `en_core_web_sm`, which don't ship with word vectors and only use context-sensitive tensors. You can always add your own word vectors, or use one of the larger models instead if available.\n",
      "  \"__main__\", mod_spec)\n",
      "/Users/zza/anaconda3/lib/python3.7/runpy.py:193: ModelsWarning: [W007] The model you're using has no word vectors loaded, so the result of the Token.similarity method will be based on the tagger, parser and NER, which may not give useful similarity judgements. This may happen if you're using one of the small models, e.g. `en_core_web_sm`, which don't ship with word vectors and only use context-sensitive tensors. You can always add your own word vectors, or use one of the larger models instead if available.\n",
      "  \"__main__\", mod_spec)\n",
      "/Users/zza/anaconda3/lib/python3.7/runpy.py:193: ModelsWarning: [W007] The model you're using has no word vectors loaded, so the result of the Token.similarity method will be based on the tagger, parser and NER, which may not give useful similarity judgements. This may happen if you're using one of the small models, e.g. `en_core_web_sm`, which don't ship with word vectors and only use context-sensitive tensors. You can always add your own word vectors, or use one of the larger models instead if available.\n",
      "  \"__main__\", mod_spec)\n",
      "/Users/zza/anaconda3/lib/python3.7/runpy.py:193: ModelsWarning: [W007] The model you're using has no word vectors loaded, so the result of the Token.similarity method will be based on the tagger, parser and NER, which may not give useful similarity judgements. This may happen if you're using one of the small models, e.g. `en_core_web_sm`, which don't ship with word vectors and only use context-sensitive tensors. You can always add your own word vectors, or use one of the larger models instead if available.\n",
      "  \"__main__\", mod_spec)\n",
      "/Users/zza/anaconda3/lib/python3.7/runpy.py:193: ModelsWarning: [W007] The model you're using has no word vectors loaded, so the result of the Token.similarity method will be based on the tagger, parser and NER, which may not give useful similarity judgements. This may happen if you're using one of the small models, e.g. `en_core_web_sm`, which don't ship with word vectors and only use context-sensitive tensors. You can always add your own word vectors, or use one of the larger models instead if available.\n",
      "  \"__main__\", mod_spec)\n",
      "/Users/zza/anaconda3/lib/python3.7/runpy.py:193: ModelsWarning: [W007] The model you're using has no word vectors loaded, so the result of the Token.similarity method will be based on the tagger, parser and NER, which may not give useful similarity judgements. This may happen if you're using one of the small models, e.g. `en_core_web_sm`, which don't ship with word vectors and only use context-sensitive tensors. You can always add your own word vectors, or use one of the larger models instead if available.\n",
      "  \"__main__\", mod_spec)\n",
      "/Users/zza/anaconda3/lib/python3.7/runpy.py:193: ModelsWarning: [W007] The model you're using has no word vectors loaded, so the result of the Token.similarity method will be based on the tagger, parser and NER, which may not give useful similarity judgements. This may happen if you're using one of the small models, e.g. `en_core_web_sm`, which don't ship with word vectors and only use context-sensitive tensors. You can always add your own word vectors, or use one of the larger models instead if available.\n",
      "  \"__main__\", mod_spec)\n",
      "/Users/zza/anaconda3/lib/python3.7/runpy.py:193: ModelsWarning: [W007] The model you're using has no word vectors loaded, so the result of the Token.similarity method will be based on the tagger, parser and NER, which may not give useful similarity judgements. This may happen if you're using one of the small models, e.g. `en_core_web_sm`, which don't ship with word vectors and only use context-sensitive tensors. You can always add your own word vectors, or use one of the larger models instead if available.\n",
      "  \"__main__\", mod_spec)\n"
     ]
    }
   ],
   "source": [
    "import spacy\n",
    "import en_core_web_sm\n",
    "\n",
    "nlp = en_core_web_sm.load()\n",
    "#nlp = spacy.load(\"en_core_web_sm\")\n",
    "\n",
    "tokens = nlp(u'king queen horse cat desk lamp')\n",
    "\n",
    "for first_token in tokens:\n",
    "    for second_token in tokens:\n",
    "        print(first_token.text, second_token.text, first_token.similarity(second_token))"
   ]
  },
  {
   "cell_type": "code",
   "execution_count": 94,
   "metadata": {},
   "outputs": [
    {
     "name": "stdout",
     "output_type": "stream",
     "text": [
      "king [ 4.6176046e-02  3.1485434e+00  9.0931988e-01 -1.3308483e+00\n",
      " -2.0520787e+00  8.8644028e-04 -1.9899446e+00 -2.0261521e+00\n",
      "  2.0488176e+00 -2.2754819e+00 -3.5353580e+00 -7.6419079e-01\n",
      "  9.8585224e-01  1.6788853e+00  8.8904595e-01 -2.7202065e+00\n",
      "  1.2832235e+00  4.1441804e-01 -1.7498127e+00  2.3226609e+00\n",
      "  7.0224088e-01 -1.2658062e+00  1.6494477e+00  3.3661590e+00\n",
      "  1.4324281e+00 -1.6505578e+00  5.3565133e-01  9.4591296e-01\n",
      " -9.3286341e-01 -4.4405606e-01 -3.7917728e+00 -4.4683036e-01\n",
      "  9.6611118e-01 -9.6888107e-01 -1.2909065e+00 -1.3748751e+00\n",
      " -2.6170058e+00  4.0137944e+00 -2.7540460e+00 -5.4235947e-01\n",
      "  7.6367164e-01  1.4090370e+00 -2.3691478e+00  5.1517239e+00\n",
      " -5.8343697e-01 -1.2792181e+00  6.7637131e-02 -2.4556217e+00\n",
      " -1.4019548e+00 -1.1861742e+00  5.0367594e-01 -1.4769692e+00\n",
      "  2.2361259e+00  3.0731046e+00  1.3390782e+00  1.1001583e+00\n",
      " -1.6604223e+00 -6.6269264e-02  1.4529021e+00 -1.8731375e+00\n",
      " -1.2917209e+00 -3.0075543e+00 -1.5218801e+00  4.2884874e+00\n",
      " -4.3858933e-01 -7.6857144e-01 -1.2938877e+00 -2.3672290e+00\n",
      " -2.6376448e+00 -2.6038048e+00  4.6554300e-01  1.0765213e+00\n",
      "  9.8877013e-01  1.3530831e+00 -6.3091123e-01  1.4303248e+00\n",
      "  7.1586621e-01  1.7814355e+00  1.3725429e+00 -3.2043593e+00\n",
      "  5.7137001e-01  3.8896773e+00 -2.9316595e-01  1.4960055e+00\n",
      "  1.9478555e+00  8.3479983e-01 -9.4180083e-01 -1.2850262e+00\n",
      " -6.1028206e-01  2.4501777e+00 -7.8371203e-01  1.8148432e+00\n",
      "  2.6231258e+00 -2.4625201e+00  4.2991352e+00  2.6756001e-01]\n",
      "queen [ 0.17906785  1.9056649   0.05448419  1.5724528  -1.2770009  -1.2755432\n",
      " -2.0182865  -0.49129975  5.5217195  -3.1084328  -2.4436166  -3.0083318\n",
      "  1.6425474   1.3859575   1.2876616  -0.8995786  -1.7848778  -0.3363378\n",
      " -1.7937135  -0.2827367   0.20664957 -1.076202   -1.0572908   0.6203346\n",
      " -0.8625321  -2.673612   -0.34409505  1.0348269   1.625618    2.1510046\n",
      "  0.09182975 -0.02772145 -0.18721256 -1.9734075   0.6134936  -2.413096\n",
      " -1.135939   -0.346866   -3.9373422   2.0025601  -1.2138419  -1.452862\n",
      "  1.2258993   4.0716524   1.2531369  -2.8849328  -0.29970932  2.4970713\n",
      " -2.8130379  -2.0184736  -1.8918227  -2.6473572  -0.08207586  4.130813\n",
      " -1.4904251   1.1824344  -3.4245238  -0.19493097  0.75776756  1.7233114\n",
      "  1.2237277   3.6330776  -3.6693048   6.571938    3.1987457   1.3477336\n",
      " -0.42838734 -2.171137   -3.7957366  -0.23958644  0.34112063 -1.4161502\n",
      "  0.89409673  5.53115    -0.7262169   1.2947205   1.9379914   0.46878803\n",
      "  0.26474237 -2.249347   -0.9336356   6.2070727   2.889037    2.261488\n",
      " -0.6329698   1.1691049   0.2764284   0.88352275  0.6771337   0.18149734\n",
      " -1.5678599   1.5335293  -0.4815346  -3.0767806   0.35557228 -0.00753856]\n",
      "horse [ 0.7272801  -1.2322263   2.504012   -0.6684079   1.3547624  -0.32456303\n",
      " -1.0120094   1.348201    1.5542517  -2.0350957  -0.01514649 -0.6150713\n",
      " -0.3342966   3.1392517  -1.4175986  -0.9284296   0.39860094 -2.615632\n",
      " -0.8682333  -0.24624574  2.9853256   1.2691658   2.2444897   0.4607658\n",
      "  0.05309123 -1.8516277  -1.1799316   0.40196112 -4.009608    0.02254248\n",
      " -0.3305925  -1.9822996  -0.41066796 -1.5852584   4.4582357  -1.6009398\n",
      " -2.238251   -0.46935362 -2.8848739   1.5279965  -2.0458279   2.0348103\n",
      " -1.1393478   1.7899153   1.4222924  -0.58465177 -2.2159789   0.39319307\n",
      " -1.8806474  -1.0871196  -1.4115368   0.09274876  0.00898194  2.6719673\n",
      " -0.04146743 -0.3478516   0.33716285  1.584917   -0.2718324  -0.8890883\n",
      " -0.21389356  3.833322   -0.81804675  2.3715537   4.3245435  -0.48027456\n",
      " -0.8053834   0.65418524 -2.7404099  -1.8269061  -0.05750346 -1.50349\n",
      " -1.3653989   0.0567998  -1.2934892   0.85642487  1.7516203  -1.2515798\n",
      "  1.4699936  -2.8559842  -0.5398792   2.8033564   0.60364795 -1.0319308\n",
      " -1.6735032  -1.1978241   0.0446492  -0.9812481   3.2587128   1.5965328\n",
      "  1.3100616   1.2462516   0.8226758  -1.0948335   4.2091002  -0.2861265 ]\n",
      "cat [ 0.34776393  2.154089    1.0220058  -3.0454483  -2.054739   -0.37819126\n",
      " -2.548875    0.9184182   1.2422358  -3.5280168   1.0342493  -2.7259455\n",
      "  0.57602715  1.6588095  -2.673046    2.1491947  -1.733891   -1.4646729\n",
      " -2.644039    1.0079042   0.20904419  2.4309368   1.2997081   2.0276134\n",
      "  0.27050212 -0.40935892 -1.0333563  -0.28252596 -0.5362654  -1.3917269\n",
      " -2.326627   -2.6577923   0.44636983 -0.46228206  2.405713   -0.27703804\n",
      "  0.29433966  1.5488701  -2.9880753  -0.9118956  -1.6680202   1.0562589\n",
      " -1.7238331   4.1528373  -0.12701899 -2.4938576  -0.4374808   1.9869345\n",
      " -1.2521789  -4.0599785  -1.5211495   0.71251845  0.13678914  2.629589\n",
      " -0.6370876   0.8852205  -1.1509192  -0.26899162 -0.33557594  0.4235795\n",
      " -1.3729833   2.5899405  -1.8193657   3.8066583   1.6668953   2.0599287\n",
      "  0.49460128 -1.3819106   0.9758414  -1.3548236   1.0654496  -0.64657295\n",
      " -0.57716936  3.1321177  -2.4591718  -1.6964724   0.9714668  -0.07437688\n",
      "  1.6525736  -3.0725105  -2.7821643   4.7264185   0.3996771   0.5033592\n",
      "  5.095486    0.68167037 -1.961179    1.959673    1.0826889   3.244177\n",
      " -0.3640713   0.10436249  2.0147474  -1.8248967   1.5827516  -1.8705895 ]\n",
      "desk [ 0.29691732 -0.4305035  -1.3741646  -2.485798   -2.291237    2.7884378\n",
      " -2.3135486  -3.0553353   0.9740473  -0.9295914   0.8473419   0.65805835\n",
      "  0.33583796  0.73798215 -1.0615268  -2.3484805   2.2000878  -0.12806636\n",
      " -2.8835907   1.3632559  -0.84737265 -0.44720855  3.3258648   2.585916\n",
      "  0.61246115 -1.1399634  -1.6177968  -0.35234246  1.6701463  -1.6114104\n",
      " -4.2694273  -1.2565958  -0.88100183  2.7031322   0.9019898   0.16831428\n",
      " -0.8887348   0.9455758  -1.8726155  -0.24886183  2.5032573   4.230387\n",
      " -0.4072758   1.5105642   3.5119963  -3.3496583   1.9483848  -0.68341744\n",
      " -2.0713649   0.6512898  -2.6564147  -0.4309544   0.06403041  3.246497\n",
      " -2.320517   -0.9157629   0.3593184   0.7775271  -1.8294995  -1.9260259\n",
      " -1.6412911   2.1966035  -2.1743352   5.212421    2.901668    1.4698514\n",
      "  0.07345101  2.5332682  -2.7712936   3.3307836  -0.55009866 -3.104517\n",
      " -0.71976733  1.2161753  -2.631462   -0.5061294  -2.8731697   0.06547624\n",
      "  3.6078453  -2.3348422   1.0069213   1.3033535   1.1687425   0.52963686\n",
      "  2.322506    1.3741717  -3.2818196   2.1164236  -0.41982508  1.3764565\n",
      " -0.49796602  2.6093469   5.172904   -2.9709873   2.382674   -3.5728407 ]\n",
      "lamp [ 0.90223104 -0.6561562   0.27523077 -4.3674145  -0.79067963 -1.4899875\n",
      "  1.2058468  -1.7304482   0.3579358   0.5777513  -0.89760786  2.3780472\n",
      " -0.15632606 -1.7485368  -1.7657318   0.18770722  1.2547503   2.94484\n",
      " -2.531078    1.9042189   2.5763316  -0.6118649  -2.8894343   3.1973622\n",
      "  0.6073913  -4.1434813   1.4376626   7.3985624  -2.251515    3.414424\n",
      "  3.2066255  -0.1281519   1.3327584  -1.3373623   0.89918184 -2.972229\n",
      " -0.4999771  -0.35273874 -3.2587595  -2.0727794   1.7479188   3.9871283\n",
      " -2.5353785   1.499881   -0.14959729 -0.16166846  2.5130866  -0.02588078\n",
      " -2.9907985  -0.578238    0.18254232 -0.60890687 -1.1522152   2.4651167\n",
      "  0.36231247  1.1456966  -2.2931519   3.9445744   4.395964   -0.59560716\n",
      "  0.7019479   1.9233813  -1.8389945   2.2423003   2.6869397   0.21301132\n",
      " -0.58678734  0.22849488 -4.1105185  -3.5040138   1.0789038  -2.4865541\n",
      " -0.05713628  1.5603528  -1.4577584  -4.135544    0.8998764   0.994219\n",
      "  1.3205715  -1.8839958   0.09281     3.0088735   0.9799068  -0.50152445\n",
      " -0.13763863 -1.749814   -1.7126265  -2.2572083   0.5621846   1.7768545\n",
      "  0.19880196 -0.05720627  0.51348114  0.928934    1.4755576  -2.7815433 ]\n"
     ]
    }
   ],
   "source": [
    "\n",
    "tokens = nlp(u'king queen horse cat desk lamp')\n",
    "\n",
    "for token in tokens:\n",
    "    print(str(token)+\" \"+str(token.vector))\n",
    "    "
   ]
  },
  {
   "cell_type": "code",
   "execution_count": 97,
   "metadata": {},
   "outputs": [
    {
     "name": "stdout",
     "output_type": "stream",
     "text": [
      "1.0\n",
      "0.7141499079552157\n",
      "0.6306364163302318\n",
      "0.7141499079552157\n",
      "1.0\n",
      "0.5037601610587032\n",
      "0.6306364163302318\n",
      "0.5037601610587032\n",
      "1.0\n"
     ]
    },
    {
     "name": "stderr",
     "output_type": "stream",
     "text": [
      "/Users/zza/anaconda3/lib/python3.7/runpy.py:193: ModelsWarning: [W007] The model you're using has no word vectors loaded, so the result of the Doc.similarity method will be based on the tagger, parser and NER, which may not give useful similarity judgements. This may happen if you're using one of the small models, e.g. `en_core_web_sm`, which don't ship with word vectors and only use context-sensitive tensors. You can always add your own word vectors, or use one of the larger models instead if available.\n",
      "  \"__main__\", mod_spec)\n",
      "/Users/zza/anaconda3/lib/python3.7/runpy.py:193: ModelsWarning: [W007] The model you're using has no word vectors loaded, so the result of the Doc.similarity method will be based on the tagger, parser and NER, which may not give useful similarity judgements. This may happen if you're using one of the small models, e.g. `en_core_web_sm`, which don't ship with word vectors and only use context-sensitive tensors. You can always add your own word vectors, or use one of the larger models instead if available.\n",
      "  \"__main__\", mod_spec)\n",
      "/Users/zza/anaconda3/lib/python3.7/runpy.py:193: ModelsWarning: [W007] The model you're using has no word vectors loaded, so the result of the Doc.similarity method will be based on the tagger, parser and NER, which may not give useful similarity judgements. This may happen if you're using one of the small models, e.g. `en_core_web_sm`, which don't ship with word vectors and only use context-sensitive tensors. You can always add your own word vectors, or use one of the larger models instead if available.\n",
      "  \"__main__\", mod_spec)\n",
      "/Users/zza/anaconda3/lib/python3.7/runpy.py:193: ModelsWarning: [W007] The model you're using has no word vectors loaded, so the result of the Doc.similarity method will be based on the tagger, parser and NER, which may not give useful similarity judgements. This may happen if you're using one of the small models, e.g. `en_core_web_sm`, which don't ship with word vectors and only use context-sensitive tensors. You can always add your own word vectors, or use one of the larger models instead if available.\n",
      "  \"__main__\", mod_spec)\n",
      "/Users/zza/anaconda3/lib/python3.7/runpy.py:193: ModelsWarning: [W007] The model you're using has no word vectors loaded, so the result of the Doc.similarity method will be based on the tagger, parser and NER, which may not give useful similarity judgements. This may happen if you're using one of the small models, e.g. `en_core_web_sm`, which don't ship with word vectors and only use context-sensitive tensors. You can always add your own word vectors, or use one of the larger models instead if available.\n",
      "  \"__main__\", mod_spec)\n",
      "/Users/zza/anaconda3/lib/python3.7/runpy.py:193: ModelsWarning: [W007] The model you're using has no word vectors loaded, so the result of the Doc.similarity method will be based on the tagger, parser and NER, which may not give useful similarity judgements. This may happen if you're using one of the small models, e.g. `en_core_web_sm`, which don't ship with word vectors and only use context-sensitive tensors. You can always add your own word vectors, or use one of the larger models instead if available.\n",
      "  \"__main__\", mod_spec)\n"
     ]
    }
   ],
   "source": [
    "doc1 = nlp(u\"Warsaw is the largest city in Poland.\")\n",
    "doc2 = nlp(u\"Crossaint is baked in France.\")\n",
    "doc3 = nlp(u\"An emu is a large bird.\")\n",
    "\n",
    "for doc in [doc1, doc2, doc3]:\n",
    "    for other_doc in [doc1, doc2, doc3]:\n",
    "        print(doc.similarity(other_doc))"
   ]
  },
  {
   "cell_type": "code",
   "execution_count": 95,
   "metadata": {},
   "outputs": [
    {
     "data": {
      "text/plain": [
       "96"
      ]
     },
     "execution_count": 95,
     "metadata": {},
     "output_type": "execute_result"
    }
   ],
   "source": [
    "len(tokens[1].vector)"
   ]
  },
  {
   "cell_type": "code",
   "execution_count": 98,
   "metadata": {},
   "outputs": [
    {
     "data": {
      "text/plain": [
       "96"
      ]
     },
     "execution_count": 98,
     "metadata": {},
     "output_type": "execute_result"
    }
   ],
   "source": [
    "len(doc1.vector)"
   ]
  },
  {
   "cell_type": "code",
   "execution_count": null,
   "metadata": {},
   "outputs": [],
   "source": []
  }
 ],
 "metadata": {
  "kernelspec": {
   "display_name": "Python 3",
   "language": "python",
   "name": "python3"
  },
  "language_info": {
   "codemirror_mode": {
    "name": "ipython",
    "version": 3
   },
   "file_extension": ".py",
   "mimetype": "text/x-python",
   "name": "python",
   "nbconvert_exporter": "python",
   "pygments_lexer": "ipython3",
   "version": "3.7.3"
  }
 },
 "nbformat": 4,
 "nbformat_minor": 2
}
